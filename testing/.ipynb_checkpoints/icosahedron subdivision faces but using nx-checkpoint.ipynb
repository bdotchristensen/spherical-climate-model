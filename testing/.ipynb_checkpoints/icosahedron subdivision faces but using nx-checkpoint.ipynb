{
 "cells": [
  {
   "cell_type": "code",
   "execution_count": 1,
   "id": "b411b2a9-373d-479f-a0b5-33a0b2cab00f",
   "metadata": {},
   "outputs": [],
   "source": [
    "import numpy as np\n",
    "import matplotlib.pyplot as plt\n",
    "from sklearn.metrics import pairwise_distances, euclidean_distances\n",
    "\n",
    "import networkx as nx"
   ]
  },
  {
   "cell_type": "code",
   "execution_count": 2,
   "id": "4a9342f2-30af-4b4e-b096-6a9d84c2e64e",
   "metadata": {},
   "outputs": [],
   "source": [
    "phi = (1 + np.sqrt(5)) / 2\n",
    "icosahedron = []\n",
    "\n",
    "for k in range(3):\n",
    "    \n",
    "    for i in range(2):\n",
    "        for j in range(2):\n",
    "            if k == 0:\n",
    "                t = (0, (-1)**j, phi * (-1)**i)\n",
    "                icosahedron.append(t)\n",
    "\n",
    "            elif k == 1:\n",
    "                t = ((-1)**j, phi * (-1)**i, 0)\n",
    "                icosahedron.append(t)\n",
    "\n",
    "            elif k == 2:\n",
    "                t = (phi * (-1)**i, 0, (-1)**j)\n",
    "                icosahedron.append(t)\n",
    "\n",
    "icosahedron = np.stack(icosahedron)\n",
    "vertices = icosahedron / np.linalg.norm(icosahedron, axis = 1)[0]"
   ]
  },
  {
   "cell_type": "code",
   "execution_count": 10,
   "id": "df462b79-6a72-400a-8399-03260cbe9b4e",
   "metadata": {},
   "outputs": [
    {
     "data": {
      "text/plain": [
       "array([[1., 1., 0., 0., 1., 1., 0., 0., 1., 0., 1., 0.],\n",
       "       [1., 1., 0., 0., 0., 0., 1., 1., 1., 0., 1., 0.],\n",
       "       [0., 0., 1., 1., 1., 1., 0., 0., 0., 1., 0., 1.],\n",
       "       [0., 0., 1., 1., 0., 0., 1., 1., 0., 1., 0., 1.],\n",
       "       [1., 0., 1., 0., 1., 1., 0., 0., 1., 1., 0., 0.],\n",
       "       [1., 0., 1., 0., 1., 1., 0., 0., 0., 0., 1., 1.],\n",
       "       [0., 1., 0., 1., 0., 0., 1., 1., 1., 1., 0., 0.],\n",
       "       [0., 1., 0., 1., 0., 0., 1., 1., 0., 0., 1., 1.],\n",
       "       [1., 1., 0., 0., 1., 0., 1., 0., 1., 1., 0., 0.],\n",
       "       [0., 0., 1., 1., 1., 0., 1., 0., 1., 1., 0., 0.],\n",
       "       [1., 1., 0., 0., 0., 1., 0., 1., 0., 0., 1., 1.],\n",
       "       [0., 0., 1., 1., 0., 1., 0., 1., 0., 0., 1., 1.]])"
      ]
     },
     "execution_count": 10,
     "metadata": {},
     "output_type": "execute_result"
    }
   ],
   "source": [
    "distances = pairwise_distances(vertices)\n",
    "A = 1. * (distances < distances[0,1:].min() + 1e-6)\n",
    "A"
   ]
  },
  {
   "cell_type": "code",
   "execution_count": null,
   "id": "d36a8097-678e-4486-b437-85eeb2a8778d",
   "metadata": {},
   "outputs": [],
   "source": []
  },
  {
   "cell_type": "code",
   "execution_count": null,
   "id": "93b5d3ad-46f8-4124-b7c1-763c1555425f",
   "metadata": {},
   "outputs": [],
   "source": []
  }
 ],
 "metadata": {
  "kernelspec": {
   "display_name": "Python 3 (ipykernel)",
   "language": "python",
   "name": "python3"
  },
  "language_info": {
   "codemirror_mode": {
    "name": "ipython",
    "version": 3
   },
   "file_extension": ".py",
   "mimetype": "text/x-python",
   "name": "python",
   "nbconvert_exporter": "python",
   "pygments_lexer": "ipython3",
   "version": "3.8.18"
  }
 },
 "nbformat": 4,
 "nbformat_minor": 5
}
